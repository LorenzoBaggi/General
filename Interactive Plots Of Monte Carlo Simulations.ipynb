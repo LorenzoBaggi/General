{
 "cells": [
  {
   "cell_type": "code",
   "execution_count": 1,
   "metadata": {},
   "outputs": [],
   "source": [
    "import numpy as np\n",
    "import pandas as pd"
   ]
  },
  {
   "cell_type": "code",
   "execution_count": 2,
   "metadata": {},
   "outputs": [],
   "source": [
    "                         \n",
    "def run_cppi(risky_r, safe_r=None, m=3, start=1000, floor=0.8, riskfree_rate=0.03, drawdown=None):\n",
    "    \"\"\"\n",
    "    Run a backtest of the CPPI strategy, given a set of returns for the risky asset\n",
    "    Returns a dictionary containing: Asset Value History, Risk Budget History, Risky Weight History\n",
    "    \"\"\"\n",
    "    # set up the CPPI parameters\n",
    "    dates = risky_r.index\n",
    "    n_steps = len(dates)\n",
    "    account_value = start\n",
    "    floor_value = start*floor\n",
    "    peak = account_value\n",
    "    if isinstance(risky_r, pd.Series): \n",
    "        risky_r = pd.DataFrame(risky_r, columns=[\"R\"])\n",
    "\n",
    "    if safe_r is None:\n",
    "        safe_r = pd.DataFrame().reindex_like(risky_r)\n",
    "        safe_r.values[:] = riskfree_rate/12 # fast way to set all values to a number\n",
    "    # set up some DataFrames for saving intermediate values\n",
    "    account_history = pd.DataFrame().reindex_like(risky_r)\n",
    "    risky_w_history = pd.DataFrame().reindex_like(risky_r)\n",
    "    cushion_history = pd.DataFrame().reindex_like(risky_r)\n",
    "    floorval_history = pd.DataFrame().reindex_like(risky_r)\n",
    "    peak_history = pd.DataFrame().reindex_like(risky_r)\n",
    "\n",
    "    for step in range(n_steps):\n",
    "        if drawdown is not None:\n",
    "            peak = np.maximum(peak, account_value)\n",
    "            floor_value = peak*(1-drawdown)\n",
    "        cushion = (account_value - floor_value)/account_value\n",
    "        risky_w = m*cushion\n",
    "        risky_w = np.minimum(risky_w, 1)\n",
    "        risky_w = np.maximum(risky_w, 0)\n",
    "        safe_w = 1-risky_w\n",
    "        risky_alloc = account_value*risky_w\n",
    "        safe_alloc = account_value*safe_w\n",
    "        # recompute the new account value at the end of this step\n",
    "        account_value = risky_alloc*(1+risky_r.iloc[step]) + safe_alloc*(1+safe_r.iloc[step])\n",
    "        # save the histories for analysis and plotting\n",
    "        cushion_history.iloc[step] = cushion\n",
    "        risky_w_history.iloc[step] = risky_w\n",
    "        account_history.iloc[step] = account_value\n",
    "        floorval_history.iloc[step] = floor_value\n",
    "        peak_history.iloc[step] = peak\n",
    "    risky_wealth = start*(1+risky_r).cumprod()\n",
    "    backtest_result = {\n",
    "        \"Wealth\": account_history,\n",
    "        \"Risky Wealth\": risky_wealth, \n",
    "        \"Risk Budget\": cushion_history,\n",
    "        \"Risky Allocation\": risky_w_history,\n",
    "        \"m\": m,\n",
    "        \"start\": start,\n",
    "        \"floor\": floor,\n",
    "        \"risky_r\":risky_r,\n",
    "        \"safe_r\": safe_r,\n",
    "        \"drawdown\": drawdown,\n",
    "        \"peak\": peak_history,\n",
    "        \"floor\": floorval_history\n",
    "    }\n",
    "    return backtest_result"
   ]
  },
  {
   "cell_type": "code",
   "execution_count": 3,
   "metadata": {},
   "outputs": [],
   "source": [
    "def gbm(n_years = 10, n_scenarios=1000, mu=0.07, sigma=0.15, steps_per_year=12, s_0=100.0, prices=True):\n",
    "    \"\"\"\n",
    "    Evolution of Geometric Brownian Motion trajectories, such as for Stock Prices through Monte Carlo\n",
    "    :param n_years:  The number of years to generate data for\n",
    "    :param n_paths: The number of scenarios/trajectories\n",
    "    :param mu: Annualized Drift, e.g. Market Return\n",
    "    :param sigma: Annualized Volatility\n",
    "    :param steps_per_year: granularity of the simulation\n",
    "    :param s_0: initial value\n",
    "    :return: a numpy array of n_paths columns and n_years*steps_per_year rows\n",
    "    \"\"\"\n",
    "    # Derive per-step Model Parameters from User Specifications\n",
    "    dt = 1/steps_per_year\n",
    "    n_steps = int(n_years*steps_per_year) + 1\n",
    "    # the standard way ...\n",
    "    # rets_plus_1 = np.random.normal(loc=mu*dt+1, scale=sigma*np.sqrt(dt), size=(n_steps, n_scenarios))\n",
    "    # without discretization error ...\n",
    "    rets_plus_1 = np.random.normal(loc=(1+mu)**dt, scale=(sigma*np.sqrt(dt)), size=(n_steps, n_scenarios))\n",
    "    rets_plus_1[0] = 1\n",
    "    ret_val = s_0*pd.DataFrame(rets_plus_1).cumprod() if prices else rets_plus_1-1\n",
    "    return ret_val"
   ]
  },
  {
   "cell_type": "code",
   "execution_count": 4,
   "metadata": {},
   "outputs": [],
   "source": [
    "import ipywidgets as widgets\n",
    "from IPython.display import display\n",
    "import pandas as pd\n",
    "\n",
    "\n",
    "%load_ext autoreload\n",
    "%autoreload 2"
   ]
  },
  {
   "cell_type": "code",
   "execution_count": 5,
   "metadata": {},
   "outputs": [],
   "source": [
    "def show_gbm(n_scenarios, mu, sigma):\n",
    "    \"\"\"\n",
    "    Draw the results of a stock price evolution under a Geometric Brownian Motion model\n",
    "    \"\"\"\n",
    "    s_0=100\n",
    "    prices = gbm(n_scenarios=n_scenarios, mu=mu, sigma=sigma, s_0=s_0)\n",
    "    ax = prices.plot(legend=False, color=\"indianred\", alpha = 0.5, linewidth=2, figsize=(12,5))\n",
    "    ax.axhline(y=100, ls=\":\", color=\"black\")\n",
    "    # draw a dot at the origin\n",
    "    ax.plot(0,s_0, marker='o',color='darkred', alpha=0.2)"
   ]
  },
  {
   "cell_type": "code",
   "execution_count": 6,
   "metadata": {},
   "outputs": [],
   "source": [
    "gbm_controls = widgets.interactive(show_gbm, \n",
    "                                   n_scenarios=widgets.IntSlider(min=1, max=1000, step=1, value=1), \n",
    "                                   mu=(0., +.2,.01),\n",
    "                                   sigma=(0, .3, .01)\n",
    ")"
   ]
  },
  {
   "cell_type": "code",
   "execution_count": 7,
   "metadata": {},
   "outputs": [
    {
     "data": {
      "application/vnd.jupyter.widget-view+json": {
       "model_id": "ae3639a506574909a18b5b9414a11aa9",
       "version_major": 2,
       "version_minor": 0
      },
      "text/plain": [
       "interactive(children=(IntSlider(value=1, description='n_scenarios', max=1000, min=1), FloatSlider(value=0.1, d…"
      ]
     },
     "metadata": {},
     "output_type": "display_data"
    }
   ],
   "source": [
    "display(gbm_controls)"
   ]
  },
  {
   "cell_type": "code",
   "execution_count": 8,
   "metadata": {},
   "outputs": [
    {
     "data": {
      "application/vnd.jupyter.widget-view+json": {
       "model_id": "00020acb6c754d1998ef2fd81686c677",
       "version_major": 2,
       "version_minor": 0
      },
      "text/plain": [
       "interactive(children=(IntSlider(value=50, description='n_scenarios', max=1000, min=1, step=5), FloatSlider(val…"
      ]
     },
     "metadata": {},
     "output_type": "display_data"
    }
   ],
   "source": [
    "def show_cppi(n_scenarios=50, mu=0.07, sigma=0.15, m=3, floor=0., riskfree_rate=0.03, y_max=100):\n",
    "    \"\"\"\n",
    "    Plot the results of a Monte Carlo Simulation of CPPI\n",
    "    \"\"\"\n",
    "    start = 100\n",
    "    sim_rets = gbm(n_scenarios=n_scenarios, mu=mu, sigma=sigma, prices=False, steps_per_year=12)\n",
    "    risky_r = pd.DataFrame(sim_rets)\n",
    "    # run the \"back\"-test\n",
    "    btr = run_cppi(risky_r=pd.DataFrame(risky_r),riskfree_rate=riskfree_rate,m=m, start=start, floor=floor)\n",
    "    wealth = btr[\"Wealth\"]\n",
    "    y_max=wealth.values.max()*y_max/100\n",
    "    ax = wealth.plot(legend=False, alpha=0.3, color=\"indianred\", figsize=(12, 6))\n",
    "    ax.axhline(y=start, ls=\":\", color=\"black\")\n",
    "    ax.axhline(y=start*floor, ls=\"--\", color=\"red\")\n",
    "    ax.set_ylim(top=y_max)\n",
    "\n",
    "cppi_controls = widgets.interactive(show_cppi, \n",
    "                                   n_scenarios=widgets.IntSlider(min=1, max=1000, step=5, value=50), \n",
    "                                   mu=(0., +.2, .01),\n",
    "                                   sigma=(0, .30, .05),\n",
    "                                   floor=(0, 2, .1),\n",
    "                                   m=(1, 5, .5),\n",
    "                                   riskfree_rate=(0, .05, .01),\n",
    "                                   y_max=widgets.IntSlider(min=0, max=100, step=1, value=100,\n",
    "                                                          description=\"Zoom Y Axis\")\n",
    ")\n",
    "display(cppi_controls)"
   ]
  },
  {
   "cell_type": "code",
   "execution_count": 9,
   "metadata": {},
   "outputs": [
    {
     "data": {
      "application/vnd.jupyter.widget-view+json": {
       "model_id": "d44fb5e72af54c18b85fa044fbfa40af",
       "version_major": 2,
       "version_minor": 0
      },
      "text/plain": [
       "interactive(children=(IntSlider(value=50, description='n_scenarios', max=1000, min=1, step=5), FloatSlider(val…"
      ]
     },
     "metadata": {},
     "output_type": "display_data"
    }
   ],
   "source": [
    "import matplotlib.pyplot as plt\n",
    "\n",
    "def show_cppi(n_scenarios=50, mu=0.07, sigma=0.15, m=3, floor=0., riskfree_rate=0.03, y_max=100):\n",
    "    \"\"\"\n",
    "    Plot the results of a Monte Carlo Simulation of CPPI\n",
    "    \"\"\"\n",
    "    start = 100\n",
    "    sim_rets = gbm(n_scenarios=n_scenarios, mu=mu, sigma=sigma, prices=False, steps_per_year=12)\n",
    "    risky_r = pd.DataFrame(sim_rets)\n",
    "    # run the \"back\"-test\n",
    "    btr = run_cppi(risky_r=pd.DataFrame(risky_r),riskfree_rate=riskfree_rate,m=m, start=start, floor=floor)\n",
    "    wealth = btr[\"Wealth\"]\n",
    "    # calculate terminal wealth stats\n",
    "    y_max=wealth.values.max()*y_max/100\n",
    "    terminal_wealth = wealth.iloc[-1]\n",
    "    # Plot!\n",
    "    fig, (wealth_ax, hist_ax) = plt.subplots(nrows=1, ncols=2, sharey=True, gridspec_kw={'width_ratios':[3,2]}, figsize=(24, 9))\n",
    "    plt.subplots_adjust(wspace=0.0)\n",
    "    \n",
    "    wealth.plot(ax=wealth_ax, legend=False, alpha=0.3, color=\"indianred\")\n",
    "    wealth_ax.axhline(y=start, ls=\":\", color=\"black\")\n",
    "    wealth_ax.axhline(y=start*floor, ls=\"--\", color=\"red\")\n",
    "    wealth_ax.set_ylim(top=y_max)\n",
    "    \n",
    "    terminal_wealth.plot.hist(ax=hist_ax, bins=50, ec='w', fc='indianred', orientation='horizontal')\n",
    "    hist_ax.axhline(y=start, ls=\":\", color=\"black\")\n",
    "\n",
    "cppi_controls = widgets.interactive(show_cppi, \n",
    "                                   n_scenarios=widgets.IntSlider(min=1, max=1000, step=5, value=50), \n",
    "                                   mu=(0., +.2, .01),\n",
    "                                   sigma=(0, .3, .05),\n",
    "                                   floor=(0, 2, .1),\n",
    "                                   m=(1, 5, .5),\n",
    "                                   riskfree_rate=(0, .05, .01),\n",
    "                                   y_max=widgets.IntSlider(min=0, max=100, step=1, value=100,\n",
    "                                                          description=\"Zoom Y Axis\")\n",
    ")\n",
    "display(cppi_controls)"
   ]
  },
  {
   "cell_type": "markdown",
   "metadata": {},
   "source": [
    "# Adding Terminal Wealth Statistics "
   ]
  },
  {
   "cell_type": "code",
   "execution_count": 13,
   "metadata": {},
   "outputs": [
    {
     "data": {
      "application/vnd.jupyter.widget-view+json": {
       "model_id": "3160db4aa1be49d089523d7191de637c",
       "version_major": 2,
       "version_minor": 0
      },
      "text/plain": [
       "interactive(children=(IntSlider(value=50, description='n_scenarios', max=1000, min=1, step=5), FloatSlider(val…"
      ]
     },
     "metadata": {},
     "output_type": "display_data"
    }
   ],
   "source": [
    "import matplotlib.pyplot as plt\n",
    "import numpy as np\n",
    "\n",
    "def show_cppi(n_scenarios=50, mu=0.07, sigma=0.15, m=3, floor=0., riskfree_rate=0.03, steps_per_year=12, y_max=100):\n",
    "    \"\"\"\n",
    "    Plot the results of a Monte Carlo Simulation of CPPI\n",
    "    \"\"\"\n",
    "    start = 100\n",
    "    sim_rets = gbm(n_scenarios=n_scenarios, mu=mu, sigma=sigma, prices=False, steps_per_year=steps_per_year)\n",
    "    risky_r = pd.DataFrame(sim_rets)\n",
    "    # run the \"back\"-test\n",
    "    btr = run_cppi(risky_r=pd.DataFrame(risky_r),riskfree_rate=riskfree_rate,m=m, start=start, floor=floor)\n",
    "    wealth = btr[\"Wealth\"]\n",
    "\n",
    "    # calculate terminal wealth stats\n",
    "    y_max=wealth.values.max()*y_max/100\n",
    "    terminal_wealth = wealth.iloc[-1]\n",
    "    \n",
    "    tw_mean = terminal_wealth.mean()\n",
    "    tw_median = terminal_wealth.median()\n",
    "    failure_mask = np.less(terminal_wealth, start*floor)\n",
    "    n_failures = failure_mask.sum()\n",
    "    p_fail = n_failures/n_scenarios\n",
    "\n",
    "    e_shortfall = np.dot(terminal_wealth-start*floor, failure_mask)/n_failures if n_failures > 0 else 0.0\n",
    "\n",
    "    # Plot!\n",
    "    fig, (wealth_ax, hist_ax) = plt.subplots(nrows=1, ncols=2, sharey=True, gridspec_kw={'width_ratios':[3,2]}, figsize=(24, 9))\n",
    "    plt.subplots_adjust(wspace=0.0)\n",
    "    \n",
    "    wealth.plot(ax=wealth_ax, legend=False, alpha=0.3, color=\"indianred\")\n",
    "    wealth_ax.axhline(y=start, ls=\":\", color=\"black\")\n",
    "    wealth_ax.axhline(y=start*floor, ls=\"--\", color=\"red\")\n",
    "    wealth_ax.set_ylim(top=y_max)\n",
    "    \n",
    "    terminal_wealth.plot.hist(ax=hist_ax, bins=50, ec='w', fc='indianred', orientation='horizontal')\n",
    "    hist_ax.axhline(y=start, ls=\":\", color=\"black\")\n",
    "    hist_ax.axhline(y=tw_mean, ls=\":\", color=\"blue\")\n",
    "    hist_ax.axhline(y=tw_median, ls=\":\", color=\"purple\")\n",
    "    hist_ax.annotate(f\"Mean: ${int(tw_mean)}\", xy=(.7, .9),xycoords='axes fraction', fontsize=24)\n",
    "    hist_ax.annotate(f\"Median: ${int(tw_median)}\", xy=(.7, .85),xycoords='axes fraction', fontsize=24)\n",
    "    if (floor > 0.01):\n",
    "        hist_ax.axhline(y=start*floor, ls=\"--\", color=\"red\", linewidth=3)\n",
    "        hist_ax.annotate(f\"Violations: {n_failures} ({p_fail*100:2.2f}%)\\nE(shortfall)=${e_shortfall:2.2f}\", xy=(.7, .7), xycoords='axes fraction', fontsize=24)\n",
    "\n",
    "cppi_controls = widgets.interactive(show_cppi,\n",
    "                                   n_scenarios=widgets.IntSlider(min=1, max=1000, step=5, value=50), \n",
    "                                   mu=(0., +.2, .01),\n",
    "                                   sigma=(0, .3, .05),\n",
    "                                   floor=(0, 2, .1),\n",
    "                                   m=(1, 5, .5),\n",
    "                                   riskfree_rate=(0, .05, .01),\n",
    "                                   steps_per_year=widgets.IntSlider(min=1, max=12, step=1, value=12,\n",
    "                                                          description=\"Rebals/Year\"),\n",
    "                                   y_max=widgets.IntSlider(min=0, max=100, step=1, value=100,\n",
    "                                                          description=\"Zoom Y Axis\")\n",
    ")\n",
    "display(cppi_controls)"
   ]
  },
  {
   "cell_type": "code",
   "execution_count": null,
   "metadata": {},
   "outputs": [],
   "source": []
  }
 ],
 "metadata": {
  "kernelspec": {
   "display_name": "Python 3",
   "language": "python",
   "name": "python3"
  },
  "language_info": {
   "codemirror_mode": {
    "name": "ipython",
    "version": 3
   },
   "file_extension": ".py",
   "mimetype": "text/x-python",
   "name": "python",
   "nbconvert_exporter": "python",
   "pygments_lexer": "ipython3",
   "version": "3.8.5"
  }
 },
 "nbformat": 4,
 "nbformat_minor": 4
}
